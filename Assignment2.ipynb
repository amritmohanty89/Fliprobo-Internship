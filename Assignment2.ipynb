{
 "cells": [
  {
   "cell_type": "code",
   "execution_count": 1,
   "metadata": {},
   "outputs": [],
   "source": [
    "from selenium import webdriver\n",
    "import os"
   ]
  },
  {
   "cell_type": "code",
   "execution_count": 2,
   "metadata": {},
   "outputs": [],
   "source": [
    "driver = webdriver.Chrome(executable_path = 'chromedriver.exe')"
   ]
  },
  {
   "cell_type": "code",
   "execution_count": 3,
   "metadata": {},
   "outputs": [],
   "source": [
    "my_page = driver.get(\"https://www.flipkart.com/mens-tshirts/m~size/pr?sid=clo%2Cash%2Cank%2Cedy&otracker=categorytree\")"
   ]
  },
  {
   "cell_type": "code",
   "execution_count": 4,
   "metadata": {},
   "outputs": [],
   "source": [
    "def make_directory(dirname):\n",
    "    current_path = os.getcwd()\n",
    "    path=os.path.join(current_path,dirname)\n",
    "    if not os.path.exists(path):\n",
    "        os.makedirs(path)"
   ]
  },
  {
   "cell_type": "code",
   "execution_count": 5,
   "metadata": {},
   "outputs": [],
   "source": [
    "make_directory(\"tshirt\")"
   ]
  },
  {
   "cell_type": "code",
   "execution_count": 6,
   "metadata": {},
   "outputs": [],
   "source": [
    "images = driver.find_elements_by_xpath(\"//img[@class='_3togXc']\")"
   ]
  },
  {
   "cell_type": "code",
   "execution_count": 7,
   "metadata": {},
   "outputs": [
    {
     "name": "stdout",
     "output_type": "stream",
     "text": [
      "40\n"
     ]
    }
   ],
   "source": [
    "print(len(images))"
   ]
  },
  {
   "cell_type": "code",
   "execution_count": 8,
   "metadata": {},
   "outputs": [
    {
     "name": "stdout",
     "output_type": "stream",
     "text": [
      "https://rukminim1.flixcart.com/image/329/395/jt4olu80/t-shirt/v/7/v/xl-t-shirt-0068-eg-original-imafejrfpzjkxvkq.jpeg?q=50\n",
      "https://rukminim1.flixcart.com/image/329/395/k5txifk0/t-shirt/h/z/v/m-43-celebrino-original-imafzf8hxqsznvw5.jpeg?q=50\n",
      "https://rukminim1.flixcart.com/image/329/395/jm3ro280/t-shirt/9/h/f/m-style-tshirt-try-this-original-imaf8zxukgz3cjhq.jpeg?q=50\n",
      "https://rukminim1.flixcart.com/image/329/395/jtn9bww0/t-shirt/5/g/g/m-hm-1001-black-red-helmont-original-imafdfvvr8hqdu65.jpeg?q=50\n",
      "https://rukminim1.flixcart.com/image/329/395/jp780i80/t-shirt/u/8/t/s-tnvhdfulabstract1-tripr-original-imafbdarnwhfh7uu.jpeg?q=50\n",
      "https://rukminim1.flixcart.com/image/329/395/k4bms280/t-shirt/5/b/t/m-11-v-neck-try-this-original-imaf9fx8yhzq4hhf.jpeg?q=50\n",
      "https://rukminim1.flixcart.com/image/329/395/k30h8y80/t-shirt/u/z/s/s-shp275282-shapphr-original-imafjvg4nngzwrfw.jpeg?q=50\n",
      "https://rukminim1.flixcart.com/image/329/395/k7531jk0/t-shirt/z/c/a/s-rh-roundnck-x-hlfslv-blk-org-skin-rockhard-original-imafpfvkgtxeuz77.jpeg?q=50\n",
      "https://rukminim1.flixcart.com/image/329/395/jxhv1jk0/t-shirt/n/d/f/xl-rzl-rnd-full-patti-blk-rezalia-original-imafhy6jbygfeh5t.jpeg?q=50\n",
      "https://rukminim1.flixcart.com/image/329/395/jw0zr0w0/t-shirt/g/u/q/s-daredevil-party-wear-wrath-original-imafgsggwmdabfx4.jpeg?q=50\n",
      "https://rukminim1.flixcart.com/image/329/395/jza5uvk0/t-shirt/s/n/n/l-striped-try-this-original-imafj8mfhxhmfxtm.jpeg?q=50\n",
      "https://rukminim1.flixcart.com/image/329/395/k868how0/t-shirt/g/e/f/xl-4058-fastcolors-original-imafq9fnzbyr723w.jpeg?q=50\n",
      "https://rukminim1.flixcart.com/image/329/395/k40798w0/t-shirt/m/j/h/xxl-4070-xxl-fastcolors-original-imafnyyh8cvzbyep.jpeg?q=50\n",
      "https://rukminim1.flixcart.com/image/329/395/jyyqc280/t-shirt/k/q/h/s-89own-lewel-original-imafj2fgepw3shwd.jpeg?q=50\n",
      "https://rukminim1.flixcart.com/image/329/395/jtvtz0w0/t-shirt/m/q/f/xl-haif-fine-white-one-nb-nicky-boy-original-imaff2nenyyrgzce.jpeg?q=50\n",
      "https://rukminim1.flixcart.com/image/329/395/k4bms280/t-shirt/x/4/g/s-died-yarn-tshirt-try-this-original-imaf8ytcnvzmf8t5.jpeg?q=50\n",
      "https://rukminim1.flixcart.com/image/329/395/kb6tyfk0/t-shirt/j/m/g/4xl-tbl-rdhdful-just-tripr-original-imafsh9ekxf5qzvm.jpeg?q=50\n",
      "https://rukminim1.flixcart.com/image/329/395/jz05rww0/shirt/7/m/s/s-marroon-sst-try-this-original-imafghg2xpkgbhtv.jpeg?q=50\n",
      "https://rukminim1.flixcart.com/image/329/395/k4bms280/t-shirt/k/f/j/m-bathteck-try-this-original-imafgsvhqzchcwxv.jpeg?q=50\n",
      "https://rukminim1.flixcart.com/image/329/395/jzsqky80/t-shirt/x/n/m/s-0065-eg-original-imafgsbraa5hrzm8.jpeg?q=50\n",
      "https://rukminim1.flixcart.com/image/329/395/jufu4y80/t-shirt/r/b/b/xxl-jrkcollerplain-jorkk-original-imaffkqweypt2gbh.jpeg?q=50\n",
      "https://rukminim1.flixcart.com/image/329/395/jufu4y80/t-shirt/d/x/d/xxl-jrkcollerplain-jorkk-original-imaffkqwnbgdzzyu.jpeg?q=50\n",
      "https://rukminim1.flixcart.com/image/329/395/jx502vk0/t-shirt/s/q/9/xl-rzl-vnk-hf-blk-rezalia-original-imafhne2rmgagrnv.jpeg?q=50\n",
      "https://rukminim1.flixcart.com/image/329/395/k6mibgw0/t-shirt/f/q/c/s-classic-triple-color-stripe-wrath-original-imafpfy4vwafg9tx.jpeg?q=50\n",
      "https://rukminim1.flixcart.com/image/329/395/k4bms280/t-shirt/q/r/e/l-togo-try-this-original-imafghayjeh5xrb7.jpeg?q=50\n",
      "https://rukminim1.flixcart.com/image/329/395/k2z1t3k0/t-shirt/h/h/t/xl-shp275282-shapphr-original-imafjvg4jgembdsj.jpeg?q=50\n",
      "https://rukminim1.flixcart.com/image/329/395/ju1jqfk0/t-shirt/u/z/4/l-men-ss19-rgln-hs-white-ylw-blk-strp-maniac-original-imaff9e8dpqzhwgu.jpeg?q=50\n",
      "https://rukminim1.flixcart.com/image/329/395/k4vmxzk0/t-shirt/k/x/m/xl-16-panel-mustard-uzee-original-imafnzyyxzwdcn9m.jpeg?q=50\n",
      "https://rukminim1.flixcart.com/image/329/395/jtn9bww0/t-shirt/y/5/v/xl-kay-s-apparels-003-kay-s-apparels-original-imaf56hhmjq4yybu.jpeg?q=50\n",
      "https://rukminim1.flixcart.com/image/329/395/k30h8y80/t-shirt/z/5/g/xl-104gwb-lewel-original-imafm8ztqbdszezf.jpeg?q=50\n",
      "https://rukminim1.flixcart.com/image/329/395/kbxzbm80/t-shirt/m/z/y/m-4070-4071-fastcolors-original-imaft67exwhayhhe.jpeg?q=50\n",
      "https://rukminim1.flixcart.com/image/329/395/k7qinbk0/t-shirt/r/g/r/s-rt-slevattitude-org-nvy-ronit-s-trend-original-imafpwnyhqhxf8he.jpeg?q=50\n",
      "https://rukminim1.flixcart.com/image/329/395/k5vcya80/t-shirt/m/d/2/l-kd286287-kay-dee-original-imafzejhaahtyncr.jpeg?q=50\n",
      "https://rukminim1.flixcart.com/image/329/395/jctemq80/t-shirt/d/t/d/m-bts018-billion-original-imaffv4fyjzzwxn4.jpeg?q=50\n",
      "https://rukminim1.flixcart.com/image/329/395/jlgwmfk0/t-shirt/g/w/9/l-blubrdr01-diwazzo-original-imaf8h3gzhgnuw7h.jpeg?q=50\n",
      "https://rukminim1.flixcart.com/image/329/395/k3khevk0/t-shirt/m/6/7/l-aff-1001-mustard-black-adiba-fashion-factory-original-imafmn8a7me5gej4.jpeg?q=50\n",
      "https://rukminim1.flixcart.com/image/329/395/k4bms280/t-shirt/2/v/s/l-c11-try-this-original-imafghgrcwdqfjes.jpeg?q=50\n",
      "https://rukminim1.flixcart.com/image/329/395/jz05rww0/t-shirt/s/t/p/xl-blue-chex-try-this-original-imafj3eysyvftt7f.jpeg?q=50\n",
      "https://rukminim1.flixcart.com/image/329/395/jrxtea80/t-shirt/b/e/e/l-lifeo58-lifeidea-original-imafdmg5ueypzthh.jpeg?q=50\n",
      "https://rukminim1.flixcart.com/image/329/395/kafol8w0/t-shirt/4/b/t/m-fc4129-fastcolors-original-imafsyc9h9gjztxv.jpeg?q=50\n"
     ]
    }
   ],
   "source": [
    "urls = []\n",
    "for image in images:\n",
    "    source = image.get_attribute('src')\n",
    "    urls.append(source)\n",
    "    print(source)"
   ]
  },
  {
   "cell_type": "code",
   "execution_count": 9,
   "metadata": {},
   "outputs": [
    {
     "data": {
      "text/plain": [
       "40"
      ]
     },
     "execution_count": 9,
     "metadata": {},
     "output_type": "execute_result"
    }
   ],
   "source": [
    "len(urls)"
   ]
  },
  {
   "cell_type": "markdown",
   "metadata": {},
   "source": [
    "#### Using the URLs to download images "
   ]
  },
  {
   "cell_type": "code",
   "execution_count": 10,
   "metadata": {},
   "outputs": [],
   "source": [
    "import shutil\n",
    "import requests"
   ]
  },
  {
   "cell_type": "code",
   "execution_count": 13,
   "metadata": {},
   "outputs": [
    {
     "name": "stdout",
     "output_type": "stream",
     "text": [
      "Downloading 1 of 40 images from page 1\n",
      "Downloading 2 of 40 images from page 1\n",
      "Downloading 3 of 40 images from page 1\n",
      "Downloading 4 of 40 images from page 1\n",
      "Downloading 5 of 40 images from page 1\n",
      "Downloading 6 of 40 images from page 1\n",
      "Downloading 7 of 40 images from page 1\n",
      "Downloading 8 of 40 images from page 1\n",
      "Downloading 9 of 40 images from page 1\n",
      "Downloading 10 of 40 images from page 1\n",
      "Downloading 11 of 40 images from page 1\n",
      "Downloading 12 of 40 images from page 1\n",
      "Downloading 13 of 40 images from page 1\n",
      "Downloading 14 of 40 images from page 1\n",
      "Downloading 15 of 40 images from page 1\n",
      "Downloading 16 of 40 images from page 1\n",
      "Downloading 17 of 40 images from page 1\n",
      "Downloading 18 of 40 images from page 1\n",
      "Downloading 19 of 40 images from page 1\n",
      "Downloading 20 of 40 images from page 1\n",
      "Downloading 21 of 40 images from page 1\n",
      "Downloading 22 of 40 images from page 1\n",
      "Downloading 23 of 40 images from page 1\n",
      "Downloading 24 of 40 images from page 1\n",
      "Downloading 25 of 40 images from page 1\n",
      "Downloading 26 of 40 images from page 1\n",
      "Downloading 27 of 40 images from page 1\n",
      "Downloading 28 of 40 images from page 1\n",
      "Downloading 29 of 40 images from page 1\n",
      "Downloading 30 of 40 images from page 1\n",
      "Downloading 31 of 40 images from page 1\n",
      "Downloading 32 of 40 images from page 1\n",
      "Downloading 33 of 40 images from page 1\n",
      "Downloading 34 of 40 images from page 1\n",
      "Downloading 35 of 40 images from page 1\n",
      "Downloading 36 of 40 images from page 1\n",
      "Downloading 37 of 40 images from page 1\n",
      "Downloading 38 of 40 images from page 1\n",
      "Downloading 39 of 40 images from page 1\n",
      "Downloading 40 of 40 images from page 1\n"
     ]
    }
   ],
   "source": [
    "page=1\n",
    "for index,link in enumerate(urls):\n",
    "    print(\"Downloading {0} of {1} images from page 1\".format(index+1, len(urls)))\n",
    "    response=requests.get(link)\n",
    "    with open ('tshirt/img_{0}{1}.jpeg'.format(index,page),\"wb\") as file:\n",
    "        file.write(response.content)"
   ]
  },
  {
   "cell_type": "markdown",
   "metadata": {},
   "source": [
    "#### Moving To the 2nd Page"
   ]
  },
  {
   "cell_type": "code",
   "execution_count": 18,
   "metadata": {},
   "outputs": [],
   "source": [
    "next_page = driver.find_element_by_xpath(\"//a[@class='_3fVaIS']\").click()"
   ]
  },
  {
   "cell_type": "code",
   "execution_count": 19,
   "metadata": {},
   "outputs": [],
   "source": [
    "images = driver.find_elements_by_xpath(\"//img[@class='_3togXc']\")"
   ]
  },
  {
   "cell_type": "code",
   "execution_count": 20,
   "metadata": {},
   "outputs": [
    {
     "name": "stdout",
     "output_type": "stream",
     "text": [
      "https://rukminim1.flixcart.com/image/495/594/jt4olu80/t-shirt/v/7/v/xl-t-shirt-0068-eg-original-imafejrfpzjkxvkq.jpeg?q=50\n",
      "https://rukminim1.flixcart.com/image/495/594/kar44280/t-shirt/d/c/w/l-fc4179-fastcolors-original-imafs96yrccgxgug.jpeg?q=50\n",
      "https://rukminim1.flixcart.com/image/495/594/jm3ro280/t-shirt/9/h/f/m-style-tshirt-try-this-original-imaf8zxukgz3cjhq.jpeg?q=50\n",
      "https://rukminim1.flixcart.com/image/495/594/jtn9bww0/t-shirt/5/g/g/m-hm-1001-black-red-helmont-original-imafdfvvr8hqdu65.jpeg?q=50\n",
      "https://rukminim1.flixcart.com/image/495/594/jp780i80/t-shirt/u/8/t/s-tnvhdfulabstract1-tripr-original-imafbdarnwhfh7uu.jpeg?q=50\n",
      "https://rukminim1.flixcart.com/image/495/594/k4bms280/t-shirt/5/b/t/m-11-v-neck-try-this-original-imaf9fx8yhzq4hhf.jpeg?q=50\n",
      "https://rukminim1.flixcart.com/image/495/594/k30h8y80/t-shirt/u/z/s/s-shp275282-shapphr-original-imafjvg4nngzwrfw.jpeg?q=50\n",
      "https://rukminim1.flixcart.com/image/495/594/k7531jk0/t-shirt/z/c/a/s-rh-roundnck-x-hlfslv-blk-org-skin-rockhard-original-imafpfvkgtxeuz77.jpeg?q=50\n",
      "https://rukminim1.flixcart.com/image/495/594/jxhv1jk0/t-shirt/n/d/f/xl-rzl-rnd-full-patti-blk-rezalia-original-imafhy6jbygfeh5t.jpeg?q=50\n",
      "https://rukminim1.flixcart.com/image/495/594/jw0zr0w0/t-shirt/g/u/q/s-daredevil-party-wear-wrath-original-imafgsggwmdabfx4.jpeg?q=50\n",
      "https://rukminim1.flixcart.com/image/495/594/jza5uvk0/t-shirt/s/n/n/l-striped-try-this-original-imafj8mfhxhmfxtm.jpeg?q=50\n",
      "https://rukminim1.flixcart.com/image/495/594/k868how0/t-shirt/g/e/f/xl-4058-fastcolors-original-imafq9fnzbyr723w.jpeg?q=50\n",
      "https://rukminim1.flixcart.com/image/495/594/k40798w0/t-shirt/m/j/h/xxl-4070-xxl-fastcolors-original-imafnyyh8cvzbyep.jpeg?q=50\n",
      "https://rukminim1.flixcart.com/image/495/594/k6mibgw0/t-shirt/f/q/c/s-classic-triple-color-stripe-wrath-original-imafpfy4vwafg9tx.jpeg?q=50\n",
      "https://rukminim1.flixcart.com/image/495/594/jtvtz0w0/t-shirt/m/q/f/xl-haif-fine-white-one-nb-nicky-boy-original-imaff2nenyyrgzce.jpeg?q=50\n",
      "https://rukminim1.flixcart.com/image/495/594/k4bms280/t-shirt/x/4/g/s-died-yarn-tshirt-try-this-original-imaf8ytcnvzmf8t5.jpeg?q=50\n",
      "https://rukminim1.flixcart.com/image/495/594/kb6tyfk0/t-shirt/j/m/g/4xl-tbl-rdhdful-just-tripr-original-imafsh9ekxf5qzvm.jpeg?q=50\n",
      "https://rukminim1.flixcart.com/image/495/594/jz05rww0/shirt/7/m/s/s-marroon-sst-try-this-original-imafghg2xpkgbhtv.jpeg?q=50\n",
      "https://rukminim1.flixcart.com/image/495/594/k4bms280/t-shirt/k/f/j/m-bathteck-try-this-original-imafgsvhqzchcwxv.jpeg?q=50\n",
      "https://rukminim1.flixcart.com/image/495/594/jzsqky80/t-shirt/x/n/m/s-0065-eg-original-imafgsbraa5hrzm8.jpeg?q=50\n",
      "https://rukminim1.flixcart.com/image/495/594/kavefm80/t-shirt/j/h/h/s-bul-bsp018-013-006-bullmer-original-imafsbwxbnmnuxdr.jpeg?q=50\n",
      "https://rukminim1.flixcart.com/image/495/594/k2z1t3k0/t-shirt/h/h/t/xl-shp275282-shapphr-original-imafjvg4jgembdsj.jpeg?q=50\n",
      "https://rukminim1.flixcart.com/image/495/594/jufu4y80/t-shirt/r/b/b/xxl-jrkcollerplain-jorkk-original-imaffkqweypt2gbh.jpeg?q=50\n",
      "https://rukminim1.flixcart.com/image/495/594/k30h8y80/t-shirt/z/5/g/xl-104gwb-lewel-original-imafm8ztqbdszezf.jpeg?q=50\n",
      "https://rukminim1.flixcart.com/image/495/594/k4bms280/t-shirt/q/r/e/l-togo-try-this-original-imafghayjeh5xrb7.jpeg?q=50\n",
      "https://rukminim1.flixcart.com/image/495/594/jz05rww0/t-shirt/s/t/p/xl-blue-chex-try-this-original-imafj3eysyvftt7f.jpeg?q=50\n",
      "https://rukminim1.flixcart.com/image/495/594/k4vmxzk0/t-shirt/k/x/m/xl-16-panel-mustard-uzee-original-imafnzyyxzwdcn9m.jpeg?q=50\n",
      "https://rukminim1.flixcart.com/image/495/594/jtn9bww0/t-shirt/y/5/v/xl-kay-s-apparels-003-kay-s-apparels-original-imaf56hhmjq4yybu.jpeg?q=50\n",
      "https://rukminim1.flixcart.com/image/495/594/kasjjww0/t-shirt/z/h/6/m-fc4173-fastcolors-original-imafsaynwrhgzdxs.jpeg?q=50\n",
      "https://rukminim1.flixcart.com/image/495/594/jctemq80/t-shirt/d/t/d/m-bts018-billion-original-imaffv4fyjzzwxn4.jpeg?q=50\n",
      "https://rukminim1.flixcart.com/image/495/594/kbxzbm80/t-shirt/m/z/y/m-4070-4071-fastcolors-original-imaft67exwhayhhe.jpeg?q=50\n",
      "https://rukminim1.flixcart.com/image/495/594/ju1jqfk0/t-shirt/u/z/4/l-men-ss19-rgln-hs-white-ylw-blk-strp-maniac-original-imaff9e8dpqzhwgu.jpeg?q=50\n",
      "https://rukminim1.flixcart.com/image/495/594/k5vcya80/t-shirt/m/d/2/l-kd286287-kay-dee-original-imafzejhaahtyncr.jpeg?q=50\n",
      "https://rukminim1.flixcart.com/image/495/594/kafol8w0/t-shirt/4/b/t/m-fc4129-fastcolors-original-imafsyc9h9gjztxv.jpeg?q=50\n",
      "https://rukminim1.flixcart.com/image/495/594/jlgwmfk0/t-shirt/g/w/9/l-blubrdr01-diwazzo-original-imaf8h3gzhgnuw7h.jpeg?q=50\n",
      "https://rukminim1.flixcart.com/image/495/594/k7qinbk0/t-shirt/r/g/r/s-rt-slevattitude-org-nvy-ronit-s-trend-original-imafpwnyhqhxf8he.jpeg?q=50\n",
      "https://rukminim1.flixcart.com/image/495/594/jx502vk0/t-shirt/s/q/9/xl-rzl-vnk-hf-blk-rezalia-original-imafhne2rmgagrnv.jpeg?q=50\n",
      "https://rukminim1.flixcart.com/image/495/594/k3khevk0/t-shirt/m/6/7/l-aff-1001-mustard-black-adiba-fashion-factory-original-imafmn8a7me5gej4.jpeg?q=50\n",
      "https://rukminim1.flixcart.com/image/495/594/jrxtea80/t-shirt/b/e/e/l-lifeo58-lifeidea-original-imafdmg5ueypzthh.jpeg?q=50\n",
      "https://rukminim1.flixcart.com/image/495/594/jt4olu80/t-shirt/g/f/x/m-sdvp10t-duke-original-imafejhub47a2kb2.jpeg?q=50\n"
     ]
    }
   ],
   "source": [
    "urls=[]\n",
    "for image in images:\n",
    "    source= image.get_attribute('src')\n",
    "    urls.append(source)\n",
    "    print(source)"
   ]
  },
  {
   "cell_type": "code",
   "execution_count": 21,
   "metadata": {},
   "outputs": [
    {
     "name": "stdout",
     "output_type": "stream",
     "text": [
      "Downloading 1 of 40 images from page 2\n",
      "Downloading 2 of 40 images from page 2\n",
      "Downloading 3 of 40 images from page 2\n",
      "Downloading 4 of 40 images from page 2\n",
      "Downloading 5 of 40 images from page 2\n",
      "Downloading 6 of 40 images from page 2\n",
      "Downloading 7 of 40 images from page 2\n",
      "Downloading 8 of 40 images from page 2\n",
      "Downloading 9 of 40 images from page 2\n",
      "Downloading 10 of 40 images from page 2\n",
      "Downloading 11 of 40 images from page 2\n",
      "Downloading 12 of 40 images from page 2\n",
      "Downloading 13 of 40 images from page 2\n",
      "Downloading 14 of 40 images from page 2\n",
      "Downloading 15 of 40 images from page 2\n",
      "Downloading 16 of 40 images from page 2\n",
      "Downloading 17 of 40 images from page 2\n",
      "Downloading 18 of 40 images from page 2\n",
      "Downloading 19 of 40 images from page 2\n",
      "Downloading 20 of 40 images from page 2\n",
      "Downloading 21 of 40 images from page 2\n",
      "Downloading 22 of 40 images from page 2\n",
      "Downloading 23 of 40 images from page 2\n",
      "Downloading 24 of 40 images from page 2\n",
      "Downloading 25 of 40 images from page 2\n",
      "Downloading 26 of 40 images from page 2\n",
      "Downloading 27 of 40 images from page 2\n",
      "Downloading 28 of 40 images from page 2\n",
      "Downloading 29 of 40 images from page 2\n",
      "Downloading 30 of 40 images from page 2\n",
      "Downloading 31 of 40 images from page 2\n",
      "Downloading 32 of 40 images from page 2\n",
      "Downloading 33 of 40 images from page 2\n",
      "Downloading 34 of 40 images from page 2\n",
      "Downloading 35 of 40 images from page 2\n",
      "Downloading 36 of 40 images from page 2\n",
      "Downloading 37 of 40 images from page 2\n",
      "Downloading 38 of 40 images from page 2\n",
      "Downloading 39 of 40 images from page 2\n",
      "Downloading 40 of 40 images from page 2\n"
     ]
    }
   ],
   "source": [
    "#Changing for page 2\n",
    "page=2\n",
    "for index,link in enumerate(urls):\n",
    "    print(\"Downloading {0} of {1} images from page 2\".format(index+1, len(urls)))\n",
    "    response=requests.get(link)\n",
    "    with open ('tshirt/img_{0}{1}.jpeg'.format(index,page),\"wb\") as file:\n",
    "        file.write(response.content)"
   ]
  },
  {
   "cell_type": "markdown",
   "metadata": {},
   "source": [
    "#### Moving To the 3rd Page "
   ]
  },
  {
   "cell_type": "code",
   "execution_count": 22,
   "metadata": {},
   "outputs": [],
   "source": [
    "next_page = driver.find_element_by_xpath(\"//a[@class='_3fVaIS']\").click()"
   ]
  },
  {
   "cell_type": "code",
   "execution_count": 23,
   "metadata": {},
   "outputs": [],
   "source": [
    "images = driver.find_elements_by_xpath(\"//img[@class='_3togXc']\")"
   ]
  },
  {
   "cell_type": "code",
   "execution_count": 24,
   "metadata": {},
   "outputs": [
    {
     "name": "stdout",
     "output_type": "stream",
     "text": [
      "https://rukminim1.flixcart.com/image/495/594/k7dnonk0/t-shirt/x/h/a/xl-nyc-maroon-smartees-original-imafphzydf7pkgrc.jpeg?q=50\n",
      "https://rukminim1.flixcart.com/image/495/594/kavefm80/t-shirt/y/6/h/s-bul-bsp015-013-017-bullmer-original-imafsc47hdfcea5t.jpeg?q=50\n",
      "https://rukminim1.flixcart.com/image/495/594/jw6pifk0/t-shirt/e/v/z/m-61ywn-lewel-original-imafgxd7dfg7uub2.jpeg?q=50\n",
      "https://rukminim1.flixcart.com/image/495/594/k7ry3680/t-shirt/e/v/b/xl-rt-king-ylw-ronit-s-trend-original-imafpxbwppfj8hhy.jpeg?q=50\n",
      "https://rukminim1.flixcart.com/image/495/594/kavefm80/t-shirt/z/m/a/xl-bul-bsp018-006-002-bullmer-original-imafsbwxpxezytxf.jpeg?q=50\n",
      "https://rukminim1.flixcart.com/image/495/594/k3khevk0/t-shirt/m/6/7/l-aff-1001-mustard-black-adiba-fashion-factory-original-imafmn8a7me5gej4.jpeg?q=50\n",
      "https://rukminim1.flixcart.com/image/495/594/kbxzbm80/t-shirt/u/y/n/l-4131-4132-fastcolors-original-imaft67ezxatnpxz.jpeg?q=50\n",
      "https://rukminim1.flixcart.com/image/495/594/k4bms280/t-shirt/2/v/s/l-c11-try-this-original-imafghgrcwdqfjes.jpeg?q=50\n",
      "https://rukminim1.flixcart.com/image/495/594/kavefm80/t-shirt/y/4/m/s-bul-bsp015-018-010-bullmer-original-imafsbwxaxv8av93.jpeg?q=50\n",
      "https://rukminim1.flixcart.com/image/495/594/k868how0/t-shirt/g/e/f/xl-4058-fastcolors-original-imafq9fnzbyr723w.jpeg?q=50\n",
      "https://rukminim1.flixcart.com/image/495/594/kavefm80/t-shirt/d/h/9/m-bul-bsp015-012-021-bullmer-original-imafsbwxjfeztfqv.jpeg?q=50\n",
      "https://rukminim1.flixcart.com/image/495/594/jtn9bww0/t-shirt/5/f/c/s-hm-1001-maroon-black-helmont-original-imafdfvvz65ab7vm.jpeg?q=50\n",
      "https://rukminim1.flixcart.com/image/495/594/k40798w0/t-shirt/4/g/6/l-fc4131-fastcolors-original-imafny3wkfpmhny8.jpeg?q=50\n",
      "https://rukminim1.flixcart.com/image/495/594/kar44280/t-shirt/d/c/w/l-fc4179-fastcolors-original-imafs96yrccgxgug.jpeg?q=50\n",
      "https://rukminim1.flixcart.com/image/495/594/jufu4y80/t-shirt/d/x/d/xxl-jrkcollerplain-jorkk-original-imaffkqwnbgdzzyu.jpeg?q=50\n",
      "https://rukminim1.flixcart.com/image/495/594/k0r15e80/t-shirt/f/m/w/m-combo-t-158-159-138-scatchite-original-imafkgqm8mzhdyqf.jpeg?q=50\n",
      "https://rukminim1.flixcart.com/image/495/594/jpodaq80/t-shirt/m/m/x/m-am-1021m-aelo-original-imafbvhm5yzhuzgs.jpeg?q=50\n",
      "https://rukminim1.flixcart.com/image/495/594/k4bms280/t-shirt/z/z/n/xl-092-henley-try-this-original-imafghb9gpxgaarg.jpeg?q=50\n",
      "https://rukminim1.flixcart.com/image/495/594/k0lbdzk0/t-shirt/2/r/b/m-525-526-combo-london-hills-original-imafkch5udqhfjxm.jpeg?q=50\n",
      "https://rukminim1.flixcart.com/image/495/594/k6mibgw0/t-shirt/f/q/c/s-classic-triple-color-stripe-wrath-original-imafpfy4vwafg9tx.jpeg?q=50\n",
      "https://rukminim1.flixcart.com/image/495/594/kb89ea80/t-shirt/4/g/d/m-465-466-blue-mustard-london-hills-original-imafshrzdyrmvgzb.jpeg?q=50\n",
      "https://rukminim1.flixcart.com/image/495/594/k62i5jk0/t-shirt/e/t/9/3xl-trdblhdful-orgl-tripr-original-imafzhvtcmpf3zzq.jpeg?q=50\n",
      "https://rukminim1.flixcart.com/image/495/594/jvy4vbk0/t-shirt/w/r/y/m-awt1072b-aelomart-original-imafgqyftygqzy7v.jpeg?q=50\n",
      "https://rukminim1.flixcart.com/image/495/594/t-shirt/m/j/y/wex-wfe002-wexford-s-original-imaemyvehg63xxdh.jpeg?q=50\n",
      "https://rukminim1.flixcart.com/image/495/594/k6dxocw0/t-shirt/7/z/5/3xl-t16-seven-rocks-original-imafzusqusxzcknz.jpeg?q=50\n",
      "https://rukminim1.flixcart.com/image/495/594/k4vmxzk0/t-shirt/k/y/e/m-16panel-navy-mhrn-uzee-original-imafnzyqymuh9fbp.jpeg?q=50\n",
      "https://rukminim1.flixcart.com/image/495/594/kb6tyfk0/t-shirt/y/6/r/s-4114-s-fastcolors-original-imafsh5ze2ystbnd.jpeg?q=50\n",
      "https://rukminim1.flixcart.com/image/495/594/k40798w0/t-shirt/r/x/a/xxl-4054-xxl-fastcolors-original-imafny3vwstwzyvh.jpeg?q=50\n",
      "https://rukminim1.flixcart.com/image/495/594/kbxzbm80/t-shirt/v/b/j/xl-4044-4054-fastcolors-original-imaft63pdunjaprk.jpeg?q=50\n",
      "https://rukminim1.flixcart.com/image/495/594/t-shirt/j/b/n/wex-mcw201c-wexford-xl-original-imaejfvhpckckzmg.jpeg?q=50\n",
      "https://rukminim1.flixcart.com/image/495/594/jt4olu80/t-shirt/v/7/v/xl-t-shirt-0068-eg-original-imafejrfpzjkxvkq.jpeg?q=50\n",
      "https://rukminim1.flixcart.com/image/495/594/jcp4b680/t-shirt/z/6/e/xl-tblgyhoodful-d10-tripr-original-imaffryz5ywgcuvx.jpeg?q=50\n",
      "https://rukminim1.flixcart.com/image/495/594/k6mibgw0/t-shirt/j/t/j/l-city-new-white-hs-smartees-original-imafpyx9nxjzhhae.jpeg?q=50\n",
      "https://rukminim1.flixcart.com/image/495/594/k30h8y80/t-shirt/z/5/g/xl-104gwb-lewel-original-imafm8ztqbdszezf.jpeg?q=50\n",
      "https://rukminim1.flixcart.com/image/495/594/jr9iwsw0/t-shirt/v/c/d/s-tnv-rnfulabstract1-tripr-original-imafd2huzeffqyyr.jpeg?q=50\n",
      "https://rukminim1.flixcart.com/image/495/594/jyyqc280/t-shirt/k/q/h/s-89own-lewel-original-imafj2fgepw3shwd.jpeg?q=50\n",
      "https://rukminim1.flixcart.com/image/495/594/k3t21zk0/t-shirt/z/r/y/l-am-1272-aelomart-original-imafmuytsfybnmfn.jpeg?q=50\n",
      "https://rukminim1.flixcart.com/image/495/594/kbfeljk0/t-shirt/v/b/g/xxl-bul-bsp006-018-bullmer-original-imafssbw5k7mrumj.jpeg?q=50\n",
      "https://rukminim1.flixcart.com/image/495/594/k55n0y80/t-shirt/9/z/s/xl-t-227-scatchite-original-imafnwk8hqwcctmw.jpeg?q=50\n",
      "https://rukminim1.flixcart.com/image/495/594/k7xnukw0/t-shirt/q/3/g/xl-wex-wfe010b-wexford-original-imafq2gzdskcszhu.jpeg?q=50\n"
     ]
    }
   ],
   "source": [
    "urls=[]\n",
    "for image in images:\n",
    "    source= image.get_attribute('src')\n",
    "    urls.append(source)\n",
    "    print(source)"
   ]
  },
  {
   "cell_type": "code",
   "execution_count": 27,
   "metadata": {},
   "outputs": [
    {
     "name": "stdout",
     "output_type": "stream",
     "text": [
      "Downloading 1 of 40 images from page 3\n",
      "Downloading 2 of 40 images from page 3\n",
      "Downloading 3 of 40 images from page 3\n",
      "Downloading 4 of 40 images from page 3\n",
      "Downloading 5 of 40 images from page 3\n",
      "Downloading 6 of 40 images from page 3\n",
      "Downloading 7 of 40 images from page 3\n",
      "Downloading 8 of 40 images from page 3\n",
      "Downloading 9 of 40 images from page 3\n",
      "Downloading 10 of 40 images from page 3\n",
      "Downloading 11 of 40 images from page 3\n",
      "Downloading 12 of 40 images from page 3\n",
      "Downloading 13 of 40 images from page 3\n",
      "Downloading 14 of 40 images from page 3\n",
      "Downloading 15 of 40 images from page 3\n",
      "Downloading 16 of 40 images from page 3\n",
      "Downloading 17 of 40 images from page 3\n",
      "Downloading 18 of 40 images from page 3\n",
      "Downloading 19 of 40 images from page 3\n",
      "Downloading 20 of 40 images from page 3\n"
     ]
    }
   ],
   "source": [
    "#Changing for page 3\n",
    "page=3\n",
    "i = 1\n",
    "for index,link in enumerate(urls):\n",
    "    if i<=20:\n",
    "        print(\"Downloading {0} of {1} images from page 3\".format(index+1, len(urls)))\n",
    "        response=requests.get(link)\n",
    "        with open ('tshirt/img_{0}{1}.jpeg'.format(index,page),\"wb\") as file:\n",
    "            file.write(response.content)\n",
    "            i +=1\n",
    "    else:\n",
    "        file.close()\n",
    "        break"
   ]
  },
  {
   "cell_type": "markdown",
   "metadata": {},
   "source": [
    "#### Creation of Second Directory for Men"
   ]
  },
  {
   "cell_type": "code",
   "execution_count": 28,
   "metadata": {},
   "outputs": [],
   "source": [
    "make_directory(\"shirt\")"
   ]
  },
  {
   "cell_type": "code",
   "execution_count": 29,
   "metadata": {},
   "outputs": [],
   "source": [
    "images = driver.find_elements_by_xpath(\"//img[@class='_3togXc']\")"
   ]
  },
  {
   "cell_type": "code",
   "execution_count": 30,
   "metadata": {},
   "outputs": [
    {
     "name": "stdout",
     "output_type": "stream",
     "text": [
      "40\n"
     ]
    }
   ],
   "source": [
    "print(len(images))"
   ]
  },
  {
   "cell_type": "code",
   "execution_count": 31,
   "metadata": {},
   "outputs": [
    {
     "name": "stdout",
     "output_type": "stream",
     "text": [
      "https://rukminim1.flixcart.com/image/495/594/k7dnonk0/t-shirt/x/h/a/xl-nyc-maroon-smartees-original-imafphzydf7pkgrc.jpeg?q=50\n",
      "https://rukminim1.flixcart.com/image/495/594/kavefm80/t-shirt/y/6/h/s-bul-bsp015-013-017-bullmer-original-imafsc47hdfcea5t.jpeg?q=50\n",
      "https://rukminim1.flixcart.com/image/495/594/jw6pifk0/t-shirt/e/v/z/m-61ywn-lewel-original-imafgxd7dfg7uub2.jpeg?q=50\n",
      "https://rukminim1.flixcart.com/image/495/594/k7ry3680/t-shirt/e/v/b/xl-rt-king-ylw-ronit-s-trend-original-imafpxbwppfj8hhy.jpeg?q=50\n",
      "https://rukminim1.flixcart.com/image/495/594/kavefm80/t-shirt/z/m/a/xl-bul-bsp018-006-002-bullmer-original-imafsbwxpxezytxf.jpeg?q=50\n",
      "https://rukminim1.flixcart.com/image/495/594/k3khevk0/t-shirt/m/6/7/l-aff-1001-mustard-black-adiba-fashion-factory-original-imafmn8a7me5gej4.jpeg?q=50\n",
      "https://rukminim1.flixcart.com/image/495/594/kbxzbm80/t-shirt/u/y/n/l-4131-4132-fastcolors-original-imaft67ezxatnpxz.jpeg?q=50\n",
      "https://rukminim1.flixcart.com/image/495/594/k4bms280/t-shirt/2/v/s/l-c11-try-this-original-imafghgrcwdqfjes.jpeg?q=50\n",
      "https://rukminim1.flixcart.com/image/495/594/kavefm80/t-shirt/y/4/m/s-bul-bsp015-018-010-bullmer-original-imafsbwxaxv8av93.jpeg?q=50\n",
      "https://rukminim1.flixcart.com/image/495/594/k868how0/t-shirt/g/e/f/xl-4058-fastcolors-original-imafq9fnzbyr723w.jpeg?q=50\n",
      "https://rukminim1.flixcart.com/image/495/594/kavefm80/t-shirt/d/h/9/m-bul-bsp015-012-021-bullmer-original-imafsbwxjfeztfqv.jpeg?q=50\n",
      "https://rukminim1.flixcart.com/image/495/594/jtn9bww0/t-shirt/5/f/c/s-hm-1001-maroon-black-helmont-original-imafdfvvz65ab7vm.jpeg?q=50\n",
      "https://rukminim1.flixcart.com/image/495/594/k40798w0/t-shirt/4/g/6/l-fc4131-fastcolors-original-imafny3wkfpmhny8.jpeg?q=50\n",
      "https://rukminim1.flixcart.com/image/495/594/kar44280/t-shirt/d/c/w/l-fc4179-fastcolors-original-imafs96yrccgxgug.jpeg?q=50\n",
      "https://rukminim1.flixcart.com/image/495/594/jufu4y80/t-shirt/d/x/d/xxl-jrkcollerplain-jorkk-original-imaffkqwnbgdzzyu.jpeg?q=50\n",
      "https://rukminim1.flixcart.com/image/495/594/k0r15e80/t-shirt/f/m/w/m-combo-t-158-159-138-scatchite-original-imafkgqm8mzhdyqf.jpeg?q=50\n",
      "https://rukminim1.flixcart.com/image/495/594/jpodaq80/t-shirt/m/m/x/m-am-1021m-aelo-original-imafbvhm5yzhuzgs.jpeg?q=50\n",
      "https://rukminim1.flixcart.com/image/495/594/k4bms280/t-shirt/z/z/n/xl-092-henley-try-this-original-imafghb9gpxgaarg.jpeg?q=50\n",
      "https://rukminim1.flixcart.com/image/495/594/k0lbdzk0/t-shirt/2/r/b/m-525-526-combo-london-hills-original-imafkch5udqhfjxm.jpeg?q=50\n",
      "https://rukminim1.flixcart.com/image/495/594/k6mibgw0/t-shirt/f/q/c/s-classic-triple-color-stripe-wrath-original-imafpfy4vwafg9tx.jpeg?q=50\n",
      "https://rukminim1.flixcart.com/image/495/594/kb89ea80/t-shirt/4/g/d/m-465-466-blue-mustard-london-hills-original-imafshrzdyrmvgzb.jpeg?q=50\n",
      "https://rukminim1.flixcart.com/image/495/594/k62i5jk0/t-shirt/e/t/9/3xl-trdblhdful-orgl-tripr-original-imafzhvtcmpf3zzq.jpeg?q=50\n",
      "https://rukminim1.flixcart.com/image/495/594/jvy4vbk0/t-shirt/w/r/y/m-awt1072b-aelomart-original-imafgqyftygqzy7v.jpeg?q=50\n",
      "https://rukminim1.flixcart.com/image/495/594/t-shirt/m/j/y/wex-wfe002-wexford-s-original-imaemyvehg63xxdh.jpeg?q=50\n",
      "https://rukminim1.flixcart.com/image/495/594/k6dxocw0/t-shirt/7/z/5/3xl-t16-seven-rocks-original-imafzusqusxzcknz.jpeg?q=50\n",
      "https://rukminim1.flixcart.com/image/495/594/k4vmxzk0/t-shirt/k/y/e/m-16panel-navy-mhrn-uzee-original-imafnzyqymuh9fbp.jpeg?q=50\n",
      "https://rukminim1.flixcart.com/image/495/594/kb6tyfk0/t-shirt/y/6/r/s-4114-s-fastcolors-original-imafsh5ze2ystbnd.jpeg?q=50\n",
      "https://rukminim1.flixcart.com/image/495/594/k40798w0/t-shirt/r/x/a/xxl-4054-xxl-fastcolors-original-imafny3vwstwzyvh.jpeg?q=50\n",
      "https://rukminim1.flixcart.com/image/495/594/kbxzbm80/t-shirt/v/b/j/xl-4044-4054-fastcolors-original-imaft63pdunjaprk.jpeg?q=50\n",
      "https://rukminim1.flixcart.com/image/495/594/t-shirt/j/b/n/wex-mcw201c-wexford-xl-original-imaejfvhpckckzmg.jpeg?q=50\n",
      "https://rukminim1.flixcart.com/image/495/594/jt4olu80/t-shirt/v/7/v/xl-t-shirt-0068-eg-original-imafejrfpzjkxvkq.jpeg?q=50\n",
      "https://rukminim1.flixcart.com/image/495/594/jcp4b680/t-shirt/z/6/e/xl-tblgyhoodful-d10-tripr-original-imaffryz5ywgcuvx.jpeg?q=50\n",
      "https://rukminim1.flixcart.com/image/495/594/k6mibgw0/t-shirt/j/t/j/l-city-new-white-hs-smartees-original-imafpyx9nxjzhhae.jpeg?q=50\n",
      "https://rukminim1.flixcart.com/image/495/594/k30h8y80/t-shirt/z/5/g/xl-104gwb-lewel-original-imafm8ztqbdszezf.jpeg?q=50\n",
      "https://rukminim1.flixcart.com/image/495/594/jr9iwsw0/t-shirt/v/c/d/s-tnv-rnfulabstract1-tripr-original-imafd2huzeffqyyr.jpeg?q=50\n",
      "https://rukminim1.flixcart.com/image/495/594/jyyqc280/t-shirt/k/q/h/s-89own-lewel-original-imafj2fgepw3shwd.jpeg?q=50\n",
      "https://rukminim1.flixcart.com/image/495/594/k3t21zk0/t-shirt/z/r/y/l-am-1272-aelomart-original-imafmuytsfybnmfn.jpeg?q=50\n",
      "https://rukminim1.flixcart.com/image/495/594/kbfeljk0/t-shirt/v/b/g/xxl-bul-bsp006-018-bullmer-original-imafssbw5k7mrumj.jpeg?q=50\n",
      "https://rukminim1.flixcart.com/image/495/594/k55n0y80/t-shirt/9/z/s/xl-t-227-scatchite-original-imafnwk8hqwcctmw.jpeg?q=50\n",
      "https://rukminim1.flixcart.com/image/495/594/k7xnukw0/t-shirt/q/3/g/xl-wex-wfe010b-wexford-original-imafq2gzdskcszhu.jpeg?q=50\n"
     ]
    }
   ],
   "source": [
    "urls = []\n",
    "for image in images:\n",
    "    source = image.get_attribute('src')\n",
    "    urls.append(source)\n",
    "    print(source)"
   ]
  },
  {
   "cell_type": "code",
   "execution_count": 32,
   "metadata": {},
   "outputs": [
    {
     "data": {
      "text/plain": [
       "40"
      ]
     },
     "execution_count": 32,
     "metadata": {},
     "output_type": "execute_result"
    }
   ],
   "source": [
    "len(urls)"
   ]
  },
  {
   "cell_type": "markdown",
   "metadata": {},
   "source": [
    "#### Using the URLs to download images "
   ]
  },
  {
   "cell_type": "code",
   "execution_count": 33,
   "metadata": {},
   "outputs": [],
   "source": [
    "import shutil\n",
    "import requests"
   ]
  },
  {
   "cell_type": "code",
   "execution_count": 35,
   "metadata": {},
   "outputs": [
    {
     "name": "stdout",
     "output_type": "stream",
     "text": [
      "Downloading 1 of 40 images from page 1\n",
      "Downloading 2 of 40 images from page 1\n",
      "Downloading 3 of 40 images from page 1\n",
      "Downloading 4 of 40 images from page 1\n",
      "Downloading 5 of 40 images from page 1\n",
      "Downloading 6 of 40 images from page 1\n",
      "Downloading 7 of 40 images from page 1\n",
      "Downloading 8 of 40 images from page 1\n",
      "Downloading 9 of 40 images from page 1\n",
      "Downloading 10 of 40 images from page 1\n",
      "Downloading 11 of 40 images from page 1\n",
      "Downloading 12 of 40 images from page 1\n",
      "Downloading 13 of 40 images from page 1\n",
      "Downloading 14 of 40 images from page 1\n",
      "Downloading 15 of 40 images from page 1\n",
      "Downloading 16 of 40 images from page 1\n",
      "Downloading 17 of 40 images from page 1\n",
      "Downloading 18 of 40 images from page 1\n",
      "Downloading 19 of 40 images from page 1\n",
      "Downloading 20 of 40 images from page 1\n",
      "Downloading 21 of 40 images from page 1\n",
      "Downloading 22 of 40 images from page 1\n",
      "Downloading 23 of 40 images from page 1\n",
      "Downloading 24 of 40 images from page 1\n",
      "Downloading 25 of 40 images from page 1\n",
      "Downloading 26 of 40 images from page 1\n",
      "Downloading 27 of 40 images from page 1\n",
      "Downloading 28 of 40 images from page 1\n",
      "Downloading 29 of 40 images from page 1\n",
      "Downloading 30 of 40 images from page 1\n",
      "Downloading 31 of 40 images from page 1\n",
      "Downloading 32 of 40 images from page 1\n",
      "Downloading 33 of 40 images from page 1\n",
      "Downloading 34 of 40 images from page 1\n",
      "Downloading 35 of 40 images from page 1\n",
      "Downloading 36 of 40 images from page 1\n",
      "Downloading 37 of 40 images from page 1\n",
      "Downloading 38 of 40 images from page 1\n",
      "Downloading 39 of 40 images from page 1\n",
      "Downloading 40 of 40 images from page 1\n"
     ]
    }
   ],
   "source": [
    "page=1\n",
    "for index,link in enumerate(urls):\n",
    "    print(\"Downloading {0} of {1} images from page 1\".format(index+1, len(urls)))\n",
    "    response=requests.get(link)\n",
    "    with open ('shirt/img_{0}{1}.jpeg'.format(index,page),\"wb\") as file:\n",
    "        file.write(response.content)"
   ]
  },
  {
   "cell_type": "markdown",
   "metadata": {},
   "source": [
    "#### Moving To the 2nd Page"
   ]
  },
  {
   "cell_type": "code",
   "execution_count": 36,
   "metadata": {},
   "outputs": [],
   "source": [
    "next_page = driver.find_element_by_xpath(\"//a[@class='_3fVaIS']\").click()"
   ]
  },
  {
   "cell_type": "code",
   "execution_count": 37,
   "metadata": {},
   "outputs": [],
   "source": [
    "images = driver.find_elements_by_xpath(\"//img[@class='_3togXc']\")"
   ]
  },
  {
   "cell_type": "code",
   "execution_count": 38,
   "metadata": {},
   "outputs": [
    {
     "name": "stdout",
     "output_type": "stream",
     "text": [
      "40\n"
     ]
    }
   ],
   "source": [
    "print(len(images))"
   ]
  },
  {
   "cell_type": "code",
   "execution_count": 39,
   "metadata": {},
   "outputs": [
    {
     "name": "stdout",
     "output_type": "stream",
     "text": [
      "https://rukminim1.flixcart.com/image/495/594/k7ry3680/t-shirt/e/v/b/xl-rt-king-ylw-ronit-s-trend-original-imafpxbwppfj8hhy.jpeg?q=50\n",
      "https://rukminim1.flixcart.com/image/495/594/kar44280/t-shirt/d/c/w/l-fc4179-fastcolors-original-imafs96yrccgxgug.jpeg?q=50\n",
      "https://rukminim1.flixcart.com/image/495/594/jm3ro280/t-shirt/9/h/f/m-style-tshirt-try-this-original-imaf8zxukgz3cjhq.jpeg?q=50\n",
      "https://rukminim1.flixcart.com/image/495/594/jtn9bww0/t-shirt/5/g/g/m-hm-1001-black-red-helmont-original-imafdfvvr8hqdu65.jpeg?q=50\n",
      "https://rukminim1.flixcart.com/image/495/594/jp780i80/t-shirt/u/8/t/s-tnvhdfulabstract1-tripr-original-imafbdarnwhfh7uu.jpeg?q=50\n",
      "https://rukminim1.flixcart.com/image/495/594/k4bms280/t-shirt/5/b/t/m-11-v-neck-try-this-original-imaf9fx8yhzq4hhf.jpeg?q=50\n",
      "https://rukminim1.flixcart.com/image/495/594/k30h8y80/t-shirt/u/z/s/s-shp275282-shapphr-original-imafjvg4nngzwrfw.jpeg?q=50\n",
      "https://rukminim1.flixcart.com/image/495/594/k7531jk0/t-shirt/z/c/a/s-rh-roundnck-x-hlfslv-blk-org-skin-rockhard-original-imafpfvkgtxeuz77.jpeg?q=50\n",
      "https://rukminim1.flixcart.com/image/495/594/jxhv1jk0/t-shirt/n/d/f/xl-rzl-rnd-full-patti-blk-rezalia-original-imafhy6jbygfeh5t.jpeg?q=50\n",
      "https://rukminim1.flixcart.com/image/495/594/jza5uvk0/t-shirt/s/n/n/l-striped-try-this-original-imafj8mfhxhmfxtm.jpeg?q=50\n",
      "https://rukminim1.flixcart.com/image/495/594/jw0zr0w0/t-shirt/g/u/q/s-daredevil-party-wear-wrath-original-imafgsggwmdabfx4.jpeg?q=50\n",
      "https://rukminim1.flixcart.com/image/495/594/k868how0/t-shirt/g/e/f/xl-4058-fastcolors-original-imafq9fnzbyr723w.jpeg?q=50\n",
      "https://rukminim1.flixcart.com/image/495/594/k40798w0/t-shirt/m/j/h/xxl-4070-xxl-fastcolors-original-imafnyyh8cvzbyep.jpeg?q=50\n",
      "https://rukminim1.flixcart.com/image/495/594/sweatshirt/h/w/c/wex-aw16-wfs035b-wexford-xl-original-imaemyu5s7e23apg.jpeg?q=50\n",
      "https://rukminim1.flixcart.com/image/495/594/jtvtz0w0/t-shirt/m/q/f/xl-haif-fine-white-one-nb-nicky-boy-original-imaff2nenyyrgzce.jpeg?q=50\n",
      "https://rukminim1.flixcart.com/image/495/594/k4bms280/t-shirt/x/4/g/s-died-yarn-tshirt-try-this-original-imaf8ytcnvzmf8t5.jpeg?q=50\n",
      "https://rukminim1.flixcart.com/image/495/594/kb6tyfk0/t-shirt/j/m/g/4xl-tbl-rdhdful-just-tripr-original-imafsh9ekxf5qzvm.jpeg?q=50\n",
      "https://rukminim1.flixcart.com/image/495/594/jz05rww0/shirt/7/m/s/s-marroon-sst-try-this-original-imafghg2xpkgbhtv.jpeg?q=50\n",
      "https://rukminim1.flixcart.com/image/495/594/k4bms280/t-shirt/k/f/j/m-bathteck-try-this-original-imafgsvhqzchcwxv.jpeg?q=50\n",
      "https://rukminim1.flixcart.com/image/495/594/k6mibgw0/t-shirt/f/q/c/s-classic-triple-color-stripe-wrath-original-imafpfy4vwafg9tx.jpeg?q=50\n",
      "https://rukminim1.flixcart.com/image/495/594/ju1jqfk0/t-shirt/u/z/4/l-men-ss19-rgln-hs-white-ylw-blk-strp-maniac-original-imaff9e8dpqzhwgu.jpeg?q=50\n",
      "https://rukminim1.flixcart.com/image/495/594/k2z1t3k0/t-shirt/h/h/t/xl-shp275282-shapphr-original-imafjvg4jgembdsj.jpeg?q=50\n",
      "https://rukminim1.flixcart.com/image/495/594/jtn9bww0/t-shirt/y/5/v/xl-kay-s-apparels-003-kay-s-apparels-original-imaf56hhmjq4yybu.jpeg?q=50\n",
      "https://rukminim1.flixcart.com/image/495/594/t-shirt/m/j/y/wex-wfe002-wexford-s-original-imaemyvehg63xxdh.jpeg?q=50\n",
      "https://rukminim1.flixcart.com/image/495/594/jufu4y80/t-shirt/r/b/b/xxl-jrkcollerplain-jorkk-original-imaffkqweypt2gbh.jpeg?q=50\n",
      "https://rukminim1.flixcart.com/image/495/594/kavefm80/t-shirt/j/h/h/s-bul-bsp018-013-006-bullmer-original-imafsbwxbnmnuxdr.jpeg?q=50\n",
      "https://rukminim1.flixcart.com/image/495/594/k4bms280/t-shirt/q/r/e/l-togo-try-this-original-imafghayjeh5xrb7.jpeg?q=50\n",
      "https://rukminim1.flixcart.com/image/495/594/jz05rww0/t-shirt/s/t/p/xl-blue-chex-try-this-original-imafj3eysyvftt7f.jpeg?q=50\n",
      "https://rukminim1.flixcart.com/image/495/594/k4vmxzk0/t-shirt/k/x/m/xl-16-panel-mustard-uzee-original-imafnzyyxzwdcn9m.jpeg?q=50\n",
      "https://rukminim1.flixcart.com/image/495/594/t-shirt/j/b/n/wex-mcw201c-wexford-xl-original-imaejfvhpckckzmg.jpeg?q=50\n",
      "https://rukminim1.flixcart.com/image/495/594/k5vcya80/t-shirt/m/d/2/l-kd286287-kay-dee-original-imafzejhaahtyncr.jpeg?q=50\n",
      "https://rukminim1.flixcart.com/image/495/594/kbxzbm80/t-shirt/m/z/y/m-4070-4071-fastcolors-original-imaft67exwhayhhe.jpeg?q=50\n",
      "https://rukminim1.flixcart.com/image/495/594/jlgwmfk0/t-shirt/g/w/9/l-blubrdr01-diwazzo-original-imaf8h3gzhgnuw7h.jpeg?q=50\n",
      "https://rukminim1.flixcart.com/image/495/594/k30h8y80/t-shirt/z/5/g/xl-104gwb-lewel-original-imafm8ztqbdszezf.jpeg?q=50\n",
      "https://rukminim1.flixcart.com/image/495/594/k7qinbk0/t-shirt/r/g/r/s-rt-slevattitude-org-nvy-ronit-s-trend-original-imafpwnyhqhxf8he.jpeg?q=50\n",
      "https://rukminim1.flixcart.com/image/495/594/jx502vk0/t-shirt/s/q/9/xl-rzl-vnk-hf-blk-rezalia-original-imafhne2rmgagrnv.jpeg?q=50\n",
      "https://rukminim1.flixcart.com/image/495/594/kbdz5ow0/t-shirt/q/x/p/s-cy-101-white-country-yard-original-imafsr4fysymk2an.jpeg?q=50\n",
      "https://rukminim1.flixcart.com/image/495/594/kasjjww0/t-shirt/z/h/6/m-fc4173-fastcolors-original-imafsaynwrhgzdxs.jpeg?q=50\n",
      "https://rukminim1.flixcart.com/image/495/594/jrxtea80/t-shirt/b/e/e/l-lifeo58-lifeidea-original-imafdmg5ueypzthh.jpeg?q=50\n",
      "https://rukminim1.flixcart.com/image/495/594/k7xnukw0/t-shirt/q/3/g/xl-wex-wfe010b-wexford-original-imafq2gzdskcszhu.jpeg?q=50\n"
     ]
    }
   ],
   "source": [
    "urls = []\n",
    "for image in images:\n",
    "    source = image.get_attribute('src')\n",
    "    urls.append(source)\n",
    "    print(source)"
   ]
  },
  {
   "cell_type": "code",
   "execution_count": 40,
   "metadata": {},
   "outputs": [
    {
     "name": "stdout",
     "output_type": "stream",
     "text": [
      "Downloading 1 of 40 images from page 2\n",
      "Downloading 2 of 40 images from page 2\n",
      "Downloading 3 of 40 images from page 2\n",
      "Downloading 4 of 40 images from page 2\n",
      "Downloading 5 of 40 images from page 2\n",
      "Downloading 6 of 40 images from page 2\n",
      "Downloading 7 of 40 images from page 2\n",
      "Downloading 8 of 40 images from page 2\n",
      "Downloading 9 of 40 images from page 2\n",
      "Downloading 10 of 40 images from page 2\n",
      "Downloading 11 of 40 images from page 2\n",
      "Downloading 12 of 40 images from page 2\n",
      "Downloading 13 of 40 images from page 2\n",
      "Downloading 14 of 40 images from page 2\n",
      "Downloading 15 of 40 images from page 2\n",
      "Downloading 16 of 40 images from page 2\n",
      "Downloading 17 of 40 images from page 2\n",
      "Downloading 18 of 40 images from page 2\n",
      "Downloading 19 of 40 images from page 2\n",
      "Downloading 20 of 40 images from page 2\n",
      "Downloading 21 of 40 images from page 2\n",
      "Downloading 22 of 40 images from page 2\n",
      "Downloading 23 of 40 images from page 2\n",
      "Downloading 24 of 40 images from page 2\n",
      "Downloading 25 of 40 images from page 2\n",
      "Downloading 26 of 40 images from page 2\n",
      "Downloading 27 of 40 images from page 2\n",
      "Downloading 28 of 40 images from page 2\n",
      "Downloading 29 of 40 images from page 2\n",
      "Downloading 30 of 40 images from page 2\n",
      "Downloading 31 of 40 images from page 2\n",
      "Downloading 32 of 40 images from page 2\n",
      "Downloading 33 of 40 images from page 2\n",
      "Downloading 34 of 40 images from page 2\n",
      "Downloading 35 of 40 images from page 2\n",
      "Downloading 36 of 40 images from page 2\n",
      "Downloading 37 of 40 images from page 2\n",
      "Downloading 38 of 40 images from page 2\n",
      "Downloading 39 of 40 images from page 2\n",
      "Downloading 40 of 40 images from page 2\n"
     ]
    }
   ],
   "source": [
    "#Changing for page 2\n",
    "page=2\n",
    "for index,link in enumerate(urls):\n",
    "    print(\"Downloading {0} of {1} images from page 2\".format(index+1, len(urls)))\n",
    "    response=requests.get(link)\n",
    "    with open ('shirt/img_{0}{1}.jpeg'.format(index,page),\"wb\") as file:\n",
    "        file.write(response.content)"
   ]
  },
  {
   "cell_type": "markdown",
   "metadata": {},
   "source": [
    "#### Moving To the 3rd Page "
   ]
  },
  {
   "cell_type": "code",
   "execution_count": 41,
   "metadata": {},
   "outputs": [],
   "source": [
    "next_page = driver.find_element_by_xpath(\"//a[@class='_3fVaIS']\").click()"
   ]
  },
  {
   "cell_type": "code",
   "execution_count": 42,
   "metadata": {},
   "outputs": [],
   "source": [
    "images = driver.find_elements_by_xpath(\"//img[@class='_3togXc']\")"
   ]
  },
  {
   "cell_type": "code",
   "execution_count": 43,
   "metadata": {},
   "outputs": [
    {
     "name": "stdout",
     "output_type": "stream",
     "text": [
      "https://rukminim1.flixcart.com/image/495/594/k7dnonk0/t-shirt/x/h/a/xl-nyc-maroon-smartees-original-imafphzydf7pkgrc.jpeg?q=50\n",
      "https://rukminim1.flixcart.com/image/495/594/jx502vk0/t-shirt/s/q/9/xl-rzl-vnk-hf-blk-rezalia-original-imafhne2rmgagrnv.jpeg?q=50\n",
      "https://rukminim1.flixcart.com/image/495/594/kavefm80/t-shirt/y/6/h/s-bul-bsp015-013-017-bullmer-original-imafsc47hdfcea5t.jpeg?q=50\n",
      "https://rukminim1.flixcart.com/image/495/594/k7ry3680/t-shirt/e/v/b/xl-rt-king-ylw-ronit-s-trend-original-imafpxbwppfj8hhy.jpeg?q=50\n",
      "https://rukminim1.flixcart.com/image/495/594/jw6pifk0/t-shirt/e/v/z/m-61ywn-lewel-original-imafgxd7dfg7uub2.jpeg?q=50\n",
      "https://rukminim1.flixcart.com/image/495/594/kavefm80/t-shirt/z/m/a/xl-bul-bsp018-006-002-bullmer-original-imafsbwxpxezytxf.jpeg?q=50\n",
      "https://rukminim1.flixcart.com/image/495/594/k3khevk0/t-shirt/m/6/7/l-aff-1001-mustard-black-adiba-fashion-factory-original-imafmn8a7me5gej4.jpeg?q=50\n",
      "https://rukminim1.flixcart.com/image/495/594/kbxzbm80/t-shirt/u/y/n/l-4131-4132-fastcolors-original-imaft67ezxatnpxz.jpeg?q=50\n",
      "https://rukminim1.flixcart.com/image/495/594/k4bms280/t-shirt/2/v/s/l-c11-try-this-original-imafghgrcwdqfjes.jpeg?q=50\n",
      "https://rukminim1.flixcart.com/image/495/594/k868how0/t-shirt/g/e/f/xl-4058-fastcolors-original-imafq9fnzbyr723w.jpeg?q=50\n",
      "https://rukminim1.flixcart.com/image/495/594/kbdz5ow0/t-shirt/q/x/p/s-cy-101-white-country-yard-original-imafsr4fysymk2an.jpeg?q=50\n",
      "https://rukminim1.flixcart.com/image/495/594/kavefm80/t-shirt/y/4/m/s-bul-bsp015-018-010-bullmer-original-imafsbwxaxv8av93.jpeg?q=50\n",
      "https://rukminim1.flixcart.com/image/495/594/kavefm80/t-shirt/d/h/9/m-bul-bsp015-012-021-bullmer-original-imafsbwxjfeztfqv.jpeg?q=50\n",
      "https://rukminim1.flixcart.com/image/495/594/kar44280/t-shirt/d/c/w/l-fc4179-fastcolors-original-imafs96yrccgxgug.jpeg?q=50\n",
      "https://rukminim1.flixcart.com/image/495/594/k0r15e80/t-shirt/f/m/w/m-combo-t-158-159-138-scatchite-original-imafkgqm8mzhdyqf.jpeg?q=50\n",
      "https://rukminim1.flixcart.com/image/495/594/jpodaq80/t-shirt/m/m/x/m-am-1021m-aelo-original-imafbvhm5yzhuzgs.jpeg?q=50\n",
      "https://rukminim1.flixcart.com/image/495/594/k0lbdzk0/t-shirt/2/r/b/m-525-526-combo-london-hills-original-imafkch5udqhfjxm.jpeg?q=50\n",
      "https://rukminim1.flixcart.com/image/495/594/kb89ea80/t-shirt/4/g/d/m-465-466-blue-mustard-london-hills-original-imafshrzdyrmvgzb.jpeg?q=50\n",
      "https://rukminim1.flixcart.com/image/495/594/k62i5jk0/t-shirt/e/t/9/3xl-trdblhdful-orgl-tripr-original-imafzhvtcmpf3zzq.jpeg?q=50\n",
      "https://rukminim1.flixcart.com/image/495/594/sweatshirt/h/w/c/wex-aw16-wfs035b-wexford-xl-original-imaemyu5s7e23apg.jpeg?q=50\n",
      "https://rukminim1.flixcart.com/image/495/594/k40798w0/t-shirt/4/g/6/l-fc4131-fastcolors-original-imafny3wkfpmhny8.jpeg?q=50\n",
      "https://rukminim1.flixcart.com/image/495/594/jvy4vbk0/t-shirt/w/r/y/m-awt1072b-aelomart-original-imafgqyftygqzy7v.jpeg?q=50\n",
      "https://rukminim1.flixcart.com/image/495/594/k6dxocw0/t-shirt/7/z/5/3xl-t16-seven-rocks-original-imafzusqusxzcknz.jpeg?q=50\n",
      "https://rukminim1.flixcart.com/image/495/594/k6mibgw0/t-shirt/f/q/c/s-classic-triple-color-stripe-wrath-original-imafpfy4vwafg9tx.jpeg?q=50\n",
      "https://rukminim1.flixcart.com/image/495/594/jufu4y80/t-shirt/d/x/d/xxl-jrkcollerplain-jorkk-original-imaffkqwnbgdzzyu.jpeg?q=50\n",
      "https://rukminim1.flixcart.com/image/495/594/kb6tyfk0/t-shirt/y/6/r/s-4114-s-fastcolors-original-imafsh5ze2ystbnd.jpeg?q=50\n",
      "https://rukminim1.flixcart.com/image/495/594/k40798w0/t-shirt/r/x/a/xxl-4054-xxl-fastcolors-original-imafny3vwstwzyvh.jpeg?q=50\n",
      "https://rukminim1.flixcart.com/image/495/594/k4vmxzk0/t-shirt/k/y/e/m-16panel-navy-mhrn-uzee-original-imafnzyqymuh9fbp.jpeg?q=50\n",
      "https://rukminim1.flixcart.com/image/495/594/jr9iwsw0/t-shirt/v/c/d/s-tnv-rnfulabstract1-tripr-original-imafd2huzeffqyyr.jpeg?q=50\n",
      "https://rukminim1.flixcart.com/image/495/594/t-shirt/m/j/y/wex-wfe002-wexford-s-original-imaemyvehg63xxdh.jpeg?q=50\n",
      "https://rukminim1.flixcart.com/image/495/594/jt4olu80/t-shirt/v/7/v/xl-t-shirt-0068-eg-original-imafejrfpzjkxvkq.jpeg?q=50\n",
      "https://rukminim1.flixcart.com/image/495/594/kbfeljk0/t-shirt/v/b/g/xxl-bul-bsp006-018-bullmer-original-imafssbw5k7mrumj.jpeg?q=50\n",
      "https://rukminim1.flixcart.com/image/495/594/jtuej680/t-shirt/v/f/a/m-haif-hus-white-one-nb-nicky-boy-original-imaff2n2gzku9ha7.jpeg?q=50\n",
      "https://rukminim1.flixcart.com/image/495/594/t-shirt/j/b/n/wex-mcw201c-wexford-xl-original-imaejfvhpckckzmg.jpeg?q=50\n",
      "https://rukminim1.flixcart.com/image/495/594/k6mibgw0/t-shirt/j/t/j/l-city-new-white-hs-smartees-original-imafpyx9nxjzhhae.jpeg?q=50\n",
      "https://rukminim1.flixcart.com/image/495/594/j4sronk0/t-shirt/x/h/c/s-bcsa0002-black-black-collection-original-imaevhsacqrvrkzs.jpeg?q=50\n",
      "https://rukminim1.flixcart.com/image/495/594/jcp4b680/t-shirt/z/6/e/xl-tblgyhoodful-d10-tripr-original-imaffryz5ywgcuvx.jpeg?q=50\n",
      "https://rukminim1.flixcart.com/image/495/594/jyyqc280/t-shirt/k/q/h/s-89own-lewel-original-imafj2fgepw3shwd.jpeg?q=50\n",
      "https://rukminim1.flixcart.com/image/495/594/k3t21zk0/t-shirt/z/r/y/l-am-1272-aelomart-original-imafmuytsfybnmfn.jpeg?q=50\n",
      "https://rukminim1.flixcart.com/image/495/594/k7xnukw0/t-shirt/q/3/g/xl-wex-wfe010b-wexford-original-imafq2gzdskcszhu.jpeg?q=50\n"
     ]
    }
   ],
   "source": [
    "urls=[]\n",
    "for image in images:\n",
    "    source= image.get_attribute('src')\n",
    "    urls.append(source)\n",
    "    print(source)"
   ]
  },
  {
   "cell_type": "code",
   "execution_count": 45,
   "metadata": {},
   "outputs": [
    {
     "name": "stdout",
     "output_type": "stream",
     "text": [
      "Downloading 1 of 40 images from page 3\n",
      "Downloading 2 of 40 images from page 3\n",
      "Downloading 3 of 40 images from page 3\n",
      "Downloading 4 of 40 images from page 3\n",
      "Downloading 5 of 40 images from page 3\n",
      "Downloading 6 of 40 images from page 3\n",
      "Downloading 7 of 40 images from page 3\n",
      "Downloading 8 of 40 images from page 3\n",
      "Downloading 9 of 40 images from page 3\n",
      "Downloading 10 of 40 images from page 3\n",
      "Downloading 11 of 40 images from page 3\n",
      "Downloading 12 of 40 images from page 3\n",
      "Downloading 13 of 40 images from page 3\n",
      "Downloading 14 of 40 images from page 3\n",
      "Downloading 15 of 40 images from page 3\n",
      "Downloading 16 of 40 images from page 3\n",
      "Downloading 17 of 40 images from page 3\n",
      "Downloading 18 of 40 images from page 3\n",
      "Downloading 19 of 40 images from page 3\n",
      "Downloading 20 of 40 images from page 3\n"
     ]
    }
   ],
   "source": [
    "#Changing for page 3\n",
    "page=3\n",
    "i = 1\n",
    "for index,link in enumerate(urls):\n",
    "    if i<=20:\n",
    "        print(\"Downloading {0} of {1} images from page 3\".format(index+1, len(urls)))\n",
    "        response=requests.get(link)\n",
    "        with open ('shirt/img_{0}{1}.jpeg'.format(index,page),\"wb\") as file:\n",
    "            file.write(response.content)\n",
    "            i +=1\n",
    "    else:\n",
    "        file.close()\n",
    "        break"
   ]
  },
  {
   "cell_type": "code",
   "execution_count": null,
   "metadata": {},
   "outputs": [],
   "source": []
  }
 ],
 "metadata": {
  "kernelspec": {
   "display_name": "Python 3",
   "language": "python",
   "name": "python3"
  },
  "language_info": {
   "codemirror_mode": {
    "name": "ipython",
    "version": 3
   },
   "file_extension": ".py",
   "mimetype": "text/x-python",
   "name": "python",
   "nbconvert_exporter": "python",
   "pygments_lexer": "ipython3",
   "version": "3.7.4"
  }
 },
 "nbformat": 4,
 "nbformat_minor": 2
}
